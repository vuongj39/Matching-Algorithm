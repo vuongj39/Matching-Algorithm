{
 "cells": [
  {
   "cell_type": "markdown",
   "metadata": {},
   "source": [
    "# Section 0.1: Loading"
   ]
  },
  {
   "cell_type": "code",
   "execution_count": 1,
   "metadata": {},
   "outputs": [],
   "source": [
    "import pandas as pd\n",
    "import numpy as np\n",
    "import copy"
   ]
  },
  {
   "cell_type": "code",
   "execution_count": 2,
   "metadata": {},
   "outputs": [],
   "source": [
    "file = pd.read_csv(r\"C:\\Users\\jimmy\\Desktop\\final_match_file.txt\").drop(['Unnamed: 0'], axis = 1)"
   ]
  },
  {
   "cell_type": "markdown",
   "metadata": {},
   "source": [
    "# Section 1: Preference & Survey Questions"
   ]
  },
  {
   "cell_type": "markdown",
   "metadata": {},
   "source": [
    "# Section 1.1: Preference Questions"
   ]
  },
  {
   "cell_type": "markdown",
   "metadata": {},
   "source": [
    "What is the minimum age would you prefer your match to be? 18 is the lowest. "
   ]
  },
  {
   "cell_type": "code",
   "execution_count": 3,
   "metadata": {},
   "outputs": [],
   "source": [
    "min_age = 27"
   ]
  },
  {
   "cell_type": "markdown",
   "metadata": {},
   "source": [
    "What is the maximum age would you prefer your match to be? 99 is the lowest. "
   ]
  },
  {
   "cell_type": "code",
   "execution_count": 4,
   "metadata": {},
   "outputs": [],
   "source": [
    "max_age = 35"
   ]
  },
  {
   "cell_type": "markdown",
   "metadata": {},
   "source": [
    "Would you date someone with kids? Yes or No"
   ]
  },
  {
   "cell_type": "code",
   "execution_count": 5,
   "metadata": {},
   "outputs": [],
   "source": [
    "date_has_kids = 'no'"
   ]
  },
  {
   "cell_type": "markdown",
   "metadata": {},
   "source": [
    "Would you date someone who does not want kids? Yes or No"
   ]
  },
  {
   "cell_type": "code",
   "execution_count": 6,
   "metadata": {},
   "outputs": [],
   "source": [
    "not_want_kids = 'no'"
   ]
  },
  {
   "cell_type": "markdown",
   "metadata": {},
   "source": [
    "Does religion matter to you? Yes or No"
   ]
  },
  {
   "cell_type": "code",
   "execution_count": 7,
   "metadata": {},
   "outputs": [],
   "source": [
    "religion_matters = 'no'"
   ]
  },
  {
   "cell_type": "markdown",
   "metadata": {},
   "source": [
    "What is your ethnic preference? Can choose more than one, if you do chose more than one use [ ]. Options: \"asian\", \"white\", \"black\", \"pacific islander\", \"hispanic / latin\", \"middle eastern\", \"indian\", \"native american\", or \"other ethnicity\""
   ]
  },
  {
   "cell_type": "code",
   "execution_count": 8,
   "metadata": {},
   "outputs": [],
   "source": [
    "ethnic_pref = ['asian', 'white', 'hispanic / latin', \"pacific islander\"]"
   ]
  },
  {
   "cell_type": "markdown",
   "metadata": {},
   "source": [
    "Do you care if someone have more than one ethnicity?"
   ]
  },
  {
   "cell_type": "code",
   "execution_count": 9,
   "metadata": {},
   "outputs": [],
   "source": [
    "mult_ethnic_matters = 'no'"
   ]
  },
  {
   "cell_type": "markdown",
   "metadata": {},
   "source": [
    "# Section 1.2: Survey Questions"
   ]
  },
  {
   "cell_type": "markdown",
   "metadata": {},
   "source": [
    "What is your gender? male or female?"
   ]
  },
  {
   "cell_type": "code",
   "execution_count": 10,
   "metadata": {},
   "outputs": [],
   "source": [
    "gender = 'female'"
   ]
  },
  {
   "cell_type": "markdown",
   "metadata": {},
   "source": [
    "What is your sexual orentiation? straight, bisexual, or gay?"
   ]
  },
  {
   "cell_type": "code",
   "execution_count": 11,
   "metadata": {},
   "outputs": [],
   "source": [
    "orientation = 'straight'"
   ]
  },
  {
   "cell_type": "markdown",
   "metadata": {},
   "source": [
    "What is your age?"
   ]
  },
  {
   "cell_type": "code",
   "execution_count": 12,
   "metadata": {},
   "outputs": [],
   "source": [
    "age = 27"
   ]
  },
  {
   "cell_type": "markdown",
   "metadata": {},
   "source": [
    "What's your ethnic preference? Can choose more than one, use [ ] for more than one ethnicity. Options: \"asian\", \"white\", \"black\", \"pacific islander\", \"hispanic / latin\", \"middle eastern\", \"indian\", \"native american\", or \"other ethnicity\""
   ]
  },
  {
   "cell_type": "code",
   "execution_count": 13,
   "metadata": {},
   "outputs": [],
   "source": [
    "ethnicity = ['asian']"
   ]
  },
  {
   "cell_type": "markdown",
   "metadata": {},
   "source": [
    "What is your height?"
   ]
  },
  {
   "cell_type": "code",
   "execution_count": 14,
   "metadata": {},
   "outputs": [],
   "source": [
    "feet = 5\n",
    "inches = 4.5"
   ]
  },
  {
   "cell_type": "code",
   "execution_count": 15,
   "metadata": {},
   "outputs": [],
   "source": [
    "height = (feet * 12) + inches"
   ]
  },
  {
   "cell_type": "markdown",
   "metadata": {},
   "source": [
    "What's your body type? Options: 'a little extra', 'average', 'thin', 'athletic', 'fit', 'curvy', 'skinny', 'full figured', 'jacked', 'RNS body', or 'overweight'\n",
    "\n",
    "Note RNS body means rather not say"
   ]
  },
  {
   "cell_type": "code",
   "execution_count": 16,
   "metadata": {},
   "outputs": [],
   "source": [
    "body = 'average'"
   ]
  },
  {
   "cell_type": "markdown",
   "metadata": {},
   "source": [
    "What type of education have you completed? Options: 'law degree', 'bachelors', 'masters', 'some college', 'high school', 'doctorates', or 'med degree'"
   ]
  },
  {
   "cell_type": "code",
   "execution_count": 17,
   "metadata": {},
   "outputs": [],
   "source": [
    "education = 'bachelors'"
   ]
  },
  {
   "cell_type": "markdown",
   "metadata": {},
   "source": [
    "What's your income? Options: 10000, 20000, 30000, 40000, 50000, 60000, 70000, 80000, 90000, 100000, 150000, 250000, 500000, or 1000000"
   ]
  },
  {
   "cell_type": "code",
   "execution_count": 18,
   "metadata": {},
   "outputs": [],
   "source": [
    "income = 10000"
   ]
  },
  {
   "cell_type": "markdown",
   "metadata": {},
   "source": [
    "What's your religion? Options: agnosticism, buddhism, atheism, other religion, christianity, catholicism, judaism, hinduism, or islam"
   ]
  },
  {
   "cell_type": "code",
   "execution_count": null,
   "metadata": {},
   "outputs": [],
   "source": [
    "religion_type = 'other religion'"
   ]
  },
  {
   "cell_type": "markdown",
   "metadata": {},
   "source": [
    "What's your occupation? Options: 'transportation', 'hospitality / travel', 'construction / craftsmanship', 'student', 'artistic / musical / writer', 'computer / hardware / software', 'law / legal services', 'education / academia', 'banking / financial / real estate', 'entertainment / media', 'sales / marketing / biz dev', 'other_job', 'medicine / health', 'science / tech / engineering', 'executive / management', 'clerical / administrative', 'RNS job', 'political / government', 'unemployed', 'military', or 'retired'\n",
    "\n",
    "Note RNS job means rather not say."
   ]
  },
  {
   "cell_type": "code",
   "execution_count": null,
   "metadata": {},
   "outputs": [],
   "source": [
    "job = \"student\""
   ]
  },
  {
   "cell_type": "markdown",
   "metadata": {},
   "source": [
    "What's your diet? Options: 'vegetarian', 'vegan', 'anything', 'other_diet', 'kosher', or 'halal'"
   ]
  },
  {
   "cell_type": "code",
   "execution_count": null,
   "metadata": {},
   "outputs": [],
   "source": [
    "diet = 'anything'"
   ]
  },
  {
   "cell_type": "markdown",
   "metadata": {},
   "source": [
    "Please select one of the following. Options: 'do not want kids', 'might want kids', 'want kid '"
   ]
  },
  {
   "cell_type": "code",
   "execution_count": null,
   "metadata": {},
   "outputs": [],
   "source": [
    "offspring = \"might want kids\""
   ]
  },
  {
   "cell_type": "markdown",
   "metadata": {},
   "source": [
    "Please select one of the following. Options: 'have more than one kid', 'have one kid', 'have zero kid'"
   ]
  },
  {
   "cell_type": "code",
   "execution_count": null,
   "metadata": {},
   "outputs": [],
   "source": [
    "number_kids = 'have zero kid'"
   ]
  },
  {
   "cell_type": "markdown",
   "metadata": {},
   "source": [
    "What is your zodiac sign? Options: 'gemini', 'cancer', 'pisces', 'aquarius', 'taurus', 'virgo', 'sagittarius', 'leo', 'aries', 'libra', 'scorpio', or 'capricorn'"
   ]
  },
  {
   "cell_type": "code",
   "execution_count": null,
   "metadata": {},
   "outputs": [],
   "source": [
    "sign = 'capricorn'"
   ]
  },
  {
   "cell_type": "markdown",
   "metadata": {},
   "source": [
    "Do you drink alcohol? Options: socially drink', 'do not drink', 'rarely drink', or 'often drink'"
   ]
  },
  {
   "cell_type": "code",
   "execution_count": null,
   "metadata": {},
   "outputs": [],
   "source": [
    "alcohol = 'socially drink'"
   ]
  },
  {
   "cell_type": "markdown",
   "metadata": {},
   "source": [
    "Do you smoke? Options: 'sometime smokes', 'dont smoke', 'smoke when drinking', 'smoke', or 'trying to quit'"
   ]
  },
  {
   "cell_type": "code",
   "execution_count": null,
   "metadata": {},
   "outputs": [],
   "source": [
    "smoke = 'dont smoke'"
   ]
  },
  {
   "cell_type": "markdown",
   "metadata": {},
   "source": [
    "Do you do drugs? Options: 'never drugs', 'sometimes drugs', 'often drugs'"
   ]
  },
  {
   "cell_type": "code",
   "execution_count": null,
   "metadata": {},
   "outputs": [],
   "source": [
    "drugs = 'never drugs'"
   ]
  },
  {
   "cell_type": "markdown",
   "metadata": {},
   "source": [
    "Describe yourself in one or two sentences."
   ]
  },
  {
   "cell_type": "code",
   "execution_count": null,
   "metadata": {},
   "outputs": [],
   "source": [
    "essay = \"I sleep at home for 12 hrs and I am at school the other 12 hrs.\""
   ]
  },
  {
   "cell_type": "markdown",
   "metadata": {},
   "source": [
    "# Section 2: Cleaning Text Data, Sentimental Analysis, TFIDFVectorizer/Selecting Key Words"
   ]
  },
  {
   "cell_type": "markdown",
   "metadata": {},
   "source": [
    "# Section 2.1: Cleaning Text Data"
   ]
  },
  {
   "cell_type": "code",
   "execution_count": null,
   "metadata": {},
   "outputs": [],
   "source": [
    "# Creating a new dataframe with only the text variable from file\n",
    "# Why are we doing this? To reduce the cost of cleaning the text data\n",
    "\n",
    "process = pd.DataFrame({'text': file['text']})"
   ]
  },
  {
   "cell_type": "code",
   "execution_count": null,
   "metadata": {},
   "outputs": [],
   "source": [
    "# function to find any text file with nan or is a float and replace them with \"\"\n",
    "def clean_nan_float(sentence):\n",
    "    \n",
    "    if sentence == \"nan\":\n",
    "        return(\"\")\n",
    "    \n",
    "    elif type(sentence) == float:\n",
    "        return(\"\")\n",
    "    \n",
    "    else:\n",
    "        return(sentence)"
   ]
  },
  {
   "cell_type": "code",
   "execution_count": null,
   "metadata": {},
   "outputs": [],
   "source": [
    "process['text'] = process['text'].apply(lambda x: clean_nan_float(x))"
   ]
  },
  {
   "cell_type": "code",
   "execution_count": null,
   "metadata": {},
   "outputs": [],
   "source": [
    "# remove common words\n",
    "\n",
    "freq = pd.Series(' '.join(process['text']).split()).value_counts()[-100:]\n",
    "freq1 = list(freq.index)\n",
    "\n",
    "process['text'] = process['text'].apply(lambda x: \" \".join(x for x in x.split() if x not in freq1))"
   ]
  },
  {
   "cell_type": "code",
   "execution_count": null,
   "metadata": {},
   "outputs": [],
   "source": [
    "# removing stopwords\n",
    "\n",
    "from nltk.corpus import stopwords\n",
    "\n",
    "stop = stopwords.words('english')\n",
    "process['text'] = process['text'].apply(lambda x: \" \".join(x for x in x.split() if x not in stop))"
   ]
  },
  {
   "cell_type": "code",
   "execution_count": null,
   "metadata": {},
   "outputs": [],
   "source": [
    "# function to remove any number from the text file\n",
    "def remove_number(sentence):\n",
    "    \n",
    "    return \" \".join([sentence for sentence in sentence.split() if not sentence.isdigit()])"
   ]
  },
  {
   "cell_type": "code",
   "execution_count": null,
   "metadata": {},
   "outputs": [],
   "source": [
    "# Remove punctuations, Lowercasing words, and remove numbers\n",
    "\n",
    "process['text'] = process['text'].str.replace('[^\\w\\s]', \"\")\n",
    "process['text'] = process['text'].apply(lambda x: \" \".join(x.lower() for x in x.split()))\n",
    "process['text'] = process['text'].apply(lambda x: remove_number(x))"
   ]
  },
  {
   "cell_type": "code",
   "execution_count": null,
   "metadata": {},
   "outputs": [],
   "source": [
    "# lemmatize the Text\n",
    "\n",
    "from textblob import Word\n",
    "#nltk.download('wordnet')\n",
    "\n",
    "process['text'] = process['text'].apply(lambda x: \" \".join([Word(x).lemmatize() for x in x.split()]))"
   ]
  },
  {
   "cell_type": "markdown",
   "metadata": {},
   "source": [
    "# Section 2.2: Sentimental Analysis"
   ]
  },
  {
   "cell_type": "code",
   "execution_count": null,
   "metadata": {},
   "outputs": [],
   "source": [
    "# The textblob(x).sentiment allows the AI to go through the textfile and determine its sentiment value\n",
    "# values range from -1 to 1, and the values represents the degree of negative, neutral, or positive opinion of the text\n",
    "# -1 perfectly negative opinion\n",
    "# 0 neutral opinion\n",
    "# 1 perfectly positive opinion\n",
    "\n",
    "from textblob import TextBlob\n",
    "\n",
    "process['sentiment'] = process['text'].apply(lambda x: TextBlob(x).sentiment[0])"
   ]
  },
  {
   "cell_type": "markdown",
   "metadata": {},
   "source": [
    "# Section 2.3: Selecting Key Words / TFIDFVectorizer"
   ]
  },
  {
   "cell_type": "code",
   "execution_count": null,
   "metadata": {},
   "outputs": [],
   "source": [
    "new_active1 = ['active', 'participating', 'alive', 'hike', 'hiking', \n",
    "               'nature', 'outdoors', 'outside',\n",
    "               'outdoor', 'sport', 'athletic', 'athletics']\n",
    "new_adventurous1 = ['adventurous', 'adventuresome', 'adventure', 'chance', 'risk',\n",
    "                   'take a chance', 'venture', 'curious', 'experience', 'explore', 'exploring']\n",
    "new_artistic1 = ['artistic', 'aesthetic', 'esthetic', 'art', 'fine art', 'artistry', 'artwork',\n",
    "                 'graphics', 'artist', 'creative', 'originative']\n",
    "new_beach1 = ['beach', 'seashore', 'seacoast', 'sea coast']\n",
    "new_busy1 = ['busy', 'busybodied']\n",
    "new_professional1 = ['professional', 'pro', \n",
    "                     'career', 'calling', 'vocation', 'occupation', 'job']\n",
    "new_p_personality1 = ['lovingness', 'caring', 'care', 'honest', 'honorable', 'dependable', 'reliable',\n",
    "                      'true', 'good', 'fair', 'heart', 'spirit', 'affection', 'affectionateness',\n",
    "                      'fondness', 'tenderness', 'warmness', 'warmheartedness', 'tolerant',\n",
    "                      'make out', 'make love', 'be intimate',\n",
    "                      'loving', 'loyal', 'truehearted', 'decent',\n",
    "                      'courteous', 'gracious', 'sweet']\n",
    "new_cook1 = ['cook', 'cooking', 'bake']\n",
    "new_fun1 = ['fun', 'playfulness', 'play']\n",
    "new_dance1 = ['dance', 'dancing']\n",
    "new_relationship1 = ['dating', 'date', 'lover', 'relationship', 'romantic', 'romanticist', 'romanticistic', 'serious']\n",
    "new_chill1 = ['chill', 'thrill', 'cool', 'poise', 'coolheaded', 'nerveless']\n",
    "food_set = ['food']\n",
    "new_independent1 = ['independent', 'freelancer', 'freelance',\n",
    "                    'autonomous',  'free']\n",
    "new_friendly1 = ['friendly', 'friend', 'acquaintance', 'friends']\n",
    "new_funny1 = ['funny', 'amusing', 'comic', 'comical','wit', 'humor', 'humour', 'witticism', 'wittiness',\n",
    "            'laugh', 'laughter', 'joke', 'silly', 'goofy', 'wacky', 'whacky','airheaded', 'pathetic', 'ridiculous', 'witty']\n",
    "new_game1 = ['game', 'geek', 'oddball', 'nerd', 'weeb', 'gamer', 'gamers']\n",
    "good_time_set = ['good time','hang','hanging', 'company']\n",
    "new_happy1 = ['happy', 'positive', 'positivistic', 'smile', 'smiling', 'smiley']\n",
    "new_smart1 = ['smart', 'smarting', 'smartness', 'bright', 'wise', 'intelligent', 'well-informed',\n",
    "             'levelheaded', 'level headed', 'intellectual']\n",
    "new_interesting1 = ['interest', 'interesting']\n",
    "new_learning1 = ['learn', 'discover', 'study', 'teach', 'instruct', 'learning', 'learnedness']\n",
    "movies_set = ['movie','movies']\n",
    "music_set = ['music']\n",
    "new_york_set = ['nyc', 'york']\n",
    "new_outgoing1 = ['outperform', 'outgoing', 'extroverted', 'extrovert', 'forthcoming', 'sociable', 'social', 'spontaneous']\n",
    "new_passion1 = ['passion', 'passionateness', 'passionate']\n",
    "new_shy = ['shy', 'diffident', 'timid', 'unsure']\n",
    "new_simple1 = ['simple', 'uncomplicated', 'unproblematic', 'simple minded']\n",
    "travel_set = ['travel','traveling','love travel', 'traveled']\n",
    "write_set = [ 'write','writing']\n",
    "reading_set = ['read', 'reading', 'book']\n",
    "conversation = ['conversation', 'talk', 'ask']"
   ]
  },
  {
   "cell_type": "code",
   "execution_count": null,
   "metadata": {},
   "outputs": [],
   "source": [
    "words_ = {'active': new_active1,\n",
    "      'adventurous': new_adventurous1,\n",
    "      'artistic': new_artistic1,\n",
    "       'beach': new_beach1,\n",
    "      'travel': travel_set,\n",
    "      'funny': new_funny1,\n",
    "       'busy': new_busy1,\n",
    "       'professional': new_professional1,\n",
    "       'genuine_traits': new_p_personality1,\n",
    "       'cook': new_cook1,\n",
    "       'fun': new_fun1,\n",
    "       'dance': new_dance1,\n",
    "       'relationship': new_relationship1,\n",
    "       'chill': new_chill1,\n",
    "       'food': food_set,\n",
    "       'independent': new_independent1,\n",
    "       'friendly': new_friendly1,\n",
    "       'funny': new_funny1,\n",
    "       'game': new_game1,\n",
    "       'good_time': good_time_set,\n",
    "       'smart': new_smart1,\n",
    "       'interesting': new_interesting1,\n",
    "       'learning': new_learning1,\n",
    "       'movies': movies_set,\n",
    "       'music': music_set,\n",
    "       'outgoing': new_outgoing1,\n",
    "       'passion': new_passion1,\n",
    "       'shy': new_shy,\n",
    "       'simple': new_simple1,\n",
    "       'write': write_set,\n",
    "       'read': reading_set,\n",
    "       'conversation': conversation,\n",
    "      }"
   ]
  },
  {
   "cell_type": "code",
   "execution_count": null,
   "metadata": {},
   "outputs": [],
   "source": [
    "unnecessary = ['hi', 'hello', 'lot', 'girl', 'guy', 'ago', 'area','bay', 'san', 'sf', 'san francisco', 'best', 'big',\n",
    "               'bit', 'born', 'born raised', 'california','city','currently','day','enjoy','feel','francisco',\n",
    "                'going', 'great','grew','hard','im','ive','know','life','little','live','lived','living',\n",
    "               'long','looking','lot','man','meet','new','old','originally','people','person','pretty','profile',\n",
    "               'raised','really','recently','right','san','say','school','sf','thing','things','think','time','want','way',\n",
    "               'world','year','years','also','always','around','back','find','first','get','go','it','make','much','name',\n",
    "               'one','see','someone','still','take','well','would', 'ill','here','home','loves','many','me','myself',\n",
    "               'never','sense','something','two','woman','anything','describe','hey','id','last','now','since',\n",
    "               'sometimes','spend','went','earth','everything','got','lets','meeting','self','there','with',\n",
    "               'believe','come','even','every','keep','like','part','place','single','spent','start', 'thats','type',\n",
    "               'cant','full','getting','give','look','nice','out','word','better','need','online','open','student',\n",
    "               'though','yet','you','berkeley','far','la','oakland','short','site','small','tell', 'college',\n",
    "               'interested', 'like', 'making', 'native', 'place','time', 'try', 'trying', 'work', 'working', 'could',\n",
    "               'guess','kid','often','real','sure', 'talk','usually','almost', 'awesome', 'country', 'half', 'month',\n",
    "               'new','probably','stuff','summary', 'consider', 'easy','ever','goodperson','goodpersonperson','graduated',\n",
    "               'new','ok','transplant','young','came','dog','east', 'enjoying','enjoys','new','others','quite',\n",
    "               'everyone','favorite','mind', 'moment','new','spending','state','up', 'new', 'time','town', 'along',\n",
    "               'am','boy','busy','ca','grad','high','important','let','may','maybe','mostly','night','past''put',\n",
    "               'stay','tend','th','this','thought','watching', 'amazing','call','conversation','do','else','enough'\n",
    "               ,'idea','made','past', 'put','rather', 'so','south','taking','that','three','told','beautiful',\n",
    "               'love','midwest', 'seriously', 'west', 'couple', 'coast','like', 'place', 'time', 'word', 'ny']\n",
    "\n",
    "\n",
    "process['text'] = process['text'].apply(lambda x: \" \".join(x for x in x.split() if x not in unnecessary))"
   ]
  },
  {
   "cell_type": "code",
   "execution_count": null,
   "metadata": {},
   "outputs": [],
   "source": [
    "def cleaner(sentence):\n",
    "    \n",
    "    global word_\n",
    "    new_sentence = sentence\n",
    "    for key, value in words_.items():\n",
    "        for words in sentence.split():\n",
    "            if words in value:\n",
    "                new_sentence = new_sentence.replace(words, key)\n",
    "    return(new_sentence)"
   ]
  },
  {
   "cell_type": "code",
   "execution_count": null,
   "metadata": {},
   "outputs": [],
   "source": [
    "process['text'] = process['text'].apply(lambda x: cleaner(x))"
   ]
  },
  {
   "cell_type": "code",
   "execution_count": null,
   "metadata": {},
   "outputs": [],
   "source": [
    "from sklearn.feature_extraction.text import TfidfVectorizer\n",
    "\n",
    "bowz = TfidfVectorizer(max_features=50, lowercase=True,analyzer = \"word\", ngram_range = (1,1))\n",
    "\n",
    "text_process_train = bowz.fit_transform(process['text'])\n",
    "\n",
    "text_process = pd.DataFrame(text_process_train.toarray(), columns = bowz.get_feature_names())"
   ]
  },
  {
   "cell_type": "code",
   "execution_count": null,
   "metadata": {},
   "outputs": [],
   "source": [
    "text_process.drop(['smile', 'hate', 'different', 'drink', 'mean',\n",
    "                   'moved', 'passion', 'smile', 'actually',\n",
    "                  'york', 'nyc'], axis = 1, inplace = True)"
   ]
  },
  {
   "cell_type": "code",
   "execution_count": null,
   "metadata": {},
   "outputs": [],
   "source": [
    "text_process = pd.concat([process['sentiment'], text_process], axis = 1)"
   ]
  },
  {
   "cell_type": "code",
   "execution_count": null,
   "metadata": {},
   "outputs": [],
   "source": [
    "file = pd.concat([file, text_process], axis = 1)"
   ]
  },
  {
   "cell_type": "code",
   "execution_count": null,
   "metadata": {},
   "outputs": [],
   "source": [
    "file['description'] = file['text']"
   ]
  },
  {
   "cell_type": "markdown",
   "metadata": {},
   "source": [
    "# Section 3: Funnel & Reduce"
   ]
  },
  {
   "cell_type": "code",
   "execution_count": null,
   "metadata": {},
   "outputs": [],
   "source": [
    "# Class funnel, initialize the following variables:\n",
    "# orientation, sex, min_age, max_age, ethnicity, mult_ethnic, religion_matters, religion, someone_with_kids, someone_donot_want_kids\n",
    "\n",
    "class funnel:\n",
    "    \n",
    "    def __init__(self, orientation , sex, min_age, max_age, ethnic_pref, mult_ethnic, religion_matters, religion, someone_with_kids, someone_donot_want_kids):\n",
    "        \n",
    "        self.orientation = orientation\n",
    "        self.sex = sex\n",
    "        self.min_age = min_age\n",
    "        self.max_age = max_age\n",
    "        self.ethnic_pref = ethnic_pref\n",
    "        self.mult_ethnic = mult_ethnic\n",
    "        self.religion_matters = religion_matters\n",
    "        self.religion = religion\n",
    "        self.someone_with_kids = someone_with_kids\n",
    "        self. someone_donot_want_kids =  someone_donot_want_kids\n",
    "        \n",
    "# Reduce function, creates a subset of potential matches based on their preferences\n",
    "# Therefore, the creates a new dataset based on conditional statements\n",
    "        \n",
    "    def reduce(self):\n",
    "        \n",
    "        # Call on the initial dataset\n",
    "        global file\n",
    "        \n",
    "        # Create new dataframe for each subset of data\n",
    "        df_straight_male = pd.DataFrame()\n",
    "        df_straight_female = pd.DataFrame()\n",
    "        df_gay_male = pd.DataFrame()\n",
    "        df_gay_female = pd.DataFrame()\n",
    "        df_bisexual_ = pd.DataFrame()\n",
    "        \n",
    "        # Check their orientation is straight\n",
    "        if self.orientation == \"straight\":\n",
    "            # Then check if they are male\n",
    "            if self.sex == 'male':\n",
    "                # If they are male, select only females from the original file and place the result into the variable straight_male\n",
    "                straight_male = file[file['female'] == 1]\n",
    "                # Now select only females' who are also straight\n",
    "                straight_male = straight_male[straight_male['orientation'] == orientation]\n",
    "                # Now select females who meets the min and max age requirement\n",
    "                straight_male = straight_male[(straight_male['age'] >= self.min_age) & (straight_male['age'] <= self.max_age)]\n",
    "                # For items in ethnic_pref\n",
    "                for ethnic in self.ethnic_pref:\n",
    "                    # Add potential matches who meets the following ethnic preference to the dataframe df_straight_male\n",
    "                    df_straight_male = pd.concat([df_straight_male, straight_male[straight_male[ethnic] == 1]])\n",
    "                # If they do not want their matches to have multiple ethnicity, then remove it from the dataframe\n",
    "                if self.mult_ethnic == \"yes\":\n",
    "                    df_straight_male = df_straight_male[df_straight_male[\"multi_ethnic\"] == 0]\n",
    "                    # If they care about religion, only select those who cares about religion or somewhat cares about religion\n",
    "                    if self.religion_matters == \"yes\":\n",
    "                        df_straight_male = df_straight_male[(df_straight_male[\"religion_matters\"] == 1) | (df_straight_male[\"religion_somewhat_matters\"] == 1)]\n",
    "                        df_straight_male = df_straight_male[df_straight_male[self.religion] == 1]\n",
    "                        # If they do not want to match with someone with kids, only select those who have no kids\n",
    "                        if self.someone_with_kids == \"no\":\n",
    "                            df_straight_male = df_straight_male[(df_straight_male[\"have zero kid\"] == 1)]\n",
    "                            # If they do not want to match with someone who do not want kids, only select those who do not want kids\n",
    "                            if self.someone_donot_want_kids == \"no\":\n",
    "                                df_straight_male = df_straight_male[(df_straight_male['do not want kids'] == 1)]\n",
    "                                return df_straight_male\n",
    "                            # return the data including not wanting kids\n",
    "                            else:\n",
    "                                return df_straight_male\n",
    "                        # return the data including not having kids\n",
    "                        else:\n",
    "                            return df_straight_male\n",
    "                    # return the data including religion does not matter\n",
    "                    else:\n",
    "                        return df_straight_male\n",
    "                # return the data with ethnicity does not matter\n",
    "                else:\n",
    "                    # if religion does matter, and they do not care about ethnicity\n",
    "                    if self.religion_matters == \"yes\":\n",
    "                        df_straight_male = df_straight_male[(df_straight_male[\"religion_matters\"] == 1) | (df_straight_male[\"religion_somewhat_matters\"] == 1)]\n",
    "                        df_straight_male = df_straight_male[df_straight_male[self.religion] == 1]\n",
    "                        # If they do not want to match with someone with kids, only select those who have no kids\n",
    "                        if self.someone_with_kids == \"no\":\n",
    "                            df_straight_male = df_straight_male[(df_straight_male[\"have zero kid\"] == 1)]\n",
    "                            # If they do not want to match with someone who do not want kids, only select those who do not want kids\n",
    "                            if self.someone_donot_want_kids == \"no\":\n",
    "                                df_straight_male = df_straight_male[(df_straight_male['do not want kids'] == 1)]\n",
    "                                return df_straight_male\n",
    "                            # return the data including not wanting kids\n",
    "                            else:\n",
    "                                return df_straight_male\n",
    "                        # return the data including not having kids\n",
    "                        else:\n",
    "                            return df_straight_male\n",
    "                     # return the data including religion does not matter\n",
    "                    else:\n",
    "                        return df_straight_male\n",
    "                    \n",
    "            # Else they are female\n",
    "            else:\n",
    "                # Select potential male matches\n",
    "                straight_female = file[file['male'] == 1]\n",
    "                # Select matches who are straight\n",
    "                straight_female = straight_female[straight_female['orientation'] == orientation]\n",
    "                # Select matches within the age restriction\n",
    "                straight_female = straight_female[(straight_female['age'] >= self.min_age) & (straight_female['age'] <= self.max_age)]\n",
    "                # For items in ethnic_pref\n",
    "                for ethnic in self.ethnic_pref:\n",
    "                    # Add potential matches who meets the following ethnic preference to the dataframe df_straight_male\n",
    "                    df_straight_female = pd.concat([df_straight_female, straight_female[straight_female[ethnic] == 1]])\n",
    "                # If they do not want their matches to have multiple ethnicity, then remove it from the dataframe\n",
    "                if self.mult_ethnic == \"yes\":\n",
    "                    df_straight_female = df_straight_female[df_straight_female[\"multi_ethnic\"] == 0]\n",
    "                    # If they care about religion, only select those who cares about religion or somewhat cares about religion\n",
    "                    if self.religion_matters == \"yes\":\n",
    "                        df_straight_female = df_straight_female[(df_straight_female[\"religion_matters\"] == 1) | (df_straight_female[\"religion_somewhat_matters\"] == 1)]\n",
    "                        df_straight_female = df_straight_female[df_straight_female[self.religion] == 1]\n",
    "                        # If they do not want to match with someone with kids, only select those who have no kids\n",
    "                        if self.someone_with_kids == \"no\":\n",
    "                            df_straight_female = df_straight_female[(df_straight_female[\"have zero kid\"] == 1)]\n",
    "                            # If they do not want to match with someone who do not want kids, only select those who do not want kids\n",
    "                            if self.someone_donot_want_kids == \"no\":\n",
    "                                df_straight_female = df_straight_female[(df_straight_female['do not want kids'] == 1)]\n",
    "                                return df_straight_female\n",
    "                             # return the data including not wanting kids\n",
    "                            else:\n",
    "                                return df_straight_female\n",
    "                        # return the data including not having kids\n",
    "                        else:\n",
    "                            return df_straight_female\n",
    "                    # return the data including religion does not matter\n",
    "                    else:\n",
    "                        return df_straight_female\n",
    "                # return the data with ethnicity does not matter\n",
    "                else:\n",
    "                    # if religion does matter, and they do not care about ethnicity\n",
    "                    if self.religion_matters == \"yes\":\n",
    "                        df_straight_female = df_straight_female[(df_straight_femalee[\"religion_matters\"] == 1) | (df_straight_female[\"religion_somewhat_matters\"] == 1)]\n",
    "                        df_straight_female = df_straight_female[df_straight_female[self.religion] == 1]\n",
    "                        # If they do not want to match with someone with kids, only select those who have no kids\n",
    "                        if self.someone_with_kids == \"no\":\n",
    "                            df_straight_female = df_straight_female[(df_straight_female[\"have zero kid\"] == 1)]\n",
    "                            # If they do not want to match with someone who do not want kids, only select those who do not want kids\n",
    "                            if self.someone_donot_want_kids == \"no\":\n",
    "                                df_straight_female = df_straight_female[(df_straight_female['do not want kids'] == 1)]\n",
    "                                return df_straight_female\n",
    "                            # return the data including not wanting kids\n",
    "                            else:\n",
    "                                return df_straight_female\n",
    "                        # return the data including not having kids\n",
    "                        else:\n",
    "                            return df_straight_female\n",
    "                    # return the data including religion does not matter\n",
    "                    else:\n",
    "                        return df_straight_female\n",
    "            \n",
    "        # if their orientation is gay    \n",
    "        if self.orientation == \"gay\":\n",
    "            # if their sex is male, select potential matches who are male, and they are gay or bixsexual\n",
    "            if self.sex == 'male':\n",
    "                gay_male = file[file['male'] == 1]\n",
    "                gay_male = gay_male[(gay_male['orientation'] == 'gay') | (gay_male['orientation'] == 'bisexual')]\n",
    "                gay_male = gay_male[(gay_male['age'] >= self.min_age) & (gay_male['age'] <= self.max_age)]\n",
    "                # the process from this point on is the same as stright\n",
    "                for ethnic in self.ethnic_pref:\n",
    "                    df_gay_male = pd.concat([df_gay_male, gay_male[gay_male[ethnic] == 1]])\n",
    "                if self.mult_ethnic == \"yes\":\n",
    "                    df_gay_male = df_gay_male[df_gay_male[\"multi_ethnic\"] == 0]\n",
    "                    if self.religion_matters == \"yes\":\n",
    "                        df_gay_male = df_gay_male[(df_gay_male[\"religion_matters\"] == 1) | (df_gay_male[\"religion_somewhat_matters\"] == 1)]\n",
    "                        df_gay_male = df_gay_male[df_gay_male[self.religion] == 1]\n",
    "                        if self.someone_with_kids == \"no\":\n",
    "                            df_gay_male = df_gay_male[(df_gay_male[\"have zero kid\"] == 1)]\n",
    "                            if self.someone_donot_want_kids == \"no\":\n",
    "                                df_gay_male = df_gay_male[(df_gay_male['do not want kids'] == 1)]\n",
    "                                return df_gay_male\n",
    "                            else:\n",
    "                                return df_gay_male\n",
    "                        else:\n",
    "                            return df_gay_male\n",
    "                    else:\n",
    "                        return df_gay_male\n",
    "                else:\n",
    "                    if self.religion_matters == \"yes\":\n",
    "                        df_gay_male = df_gay_male[(df_gay_male[\"religion_matters\"] == 1) | (df_gay_male[\"religion_somewhat_matters\"] == 1)]\n",
    "                        df_gay_male = df_gay_male[df_gay_male[self.religion] == 1]\n",
    "                        if self.someone_with_kids == \"no\":\n",
    "                            df_gay_male = df_gay_male[(df_gay_male[\"have zero kid\"] == 1)]\n",
    "                            if self.someone_donot_want_kids == \"no\":\n",
    "                                df_gay_male = df_gay_male[(df_gay_male['do not want kids'] == 1)]\n",
    "                                return df_gay_male\n",
    "                            else:\n",
    "                                return df_gay_male\n",
    "                        else:\n",
    "                            return df_gay_male\n",
    "                    else:\n",
    "                        return df_gay_male\n",
    "            # their orientation is gay, but they are female\n",
    "            else:\n",
    "                # if their sex is female, select potential matches who are female, and they are gay or bixsexual\n",
    "                gay_female = file[file['female'] == 1]\n",
    "                gay_female = gay_female[(gay_female['orientation'] == 'gay') | (gay_female['orientation'] == 'bisexual')]\n",
    "                gay_female = gay_female[(gay_female['age'] >= self.min_age) & (gay_female['age'] <= self.max_age)]\n",
    "                # from this point forward the process is the same as above\n",
    "                for ethnic in self.ethnic_pref:\n",
    "                    df_gay_female = pd.concat([df_gay_female, gay_female[gay_female[ethnic] == 1]])\n",
    "                if self.mult_ethnic == \"yes\":\n",
    "                    df_gay_female = df_gay_female[df_gay_female[\"multi_ethnic\"] == 0]\n",
    "                    if self.religion_matters == \"yes\":\n",
    "                        df_gay_female = df_gay_female[(df_gay_female[\"religion_matters\"] == 1) | (df_gay_female[\"religion_somewhat_matters\"] == 1)]\n",
    "                        df_gay_female = df_gay_female[df_gay_female[self.religion] == 1]\n",
    "                        if self.someone_with_kids == \"no\":\n",
    "                            df_gay_female = df_gay_female[(df_gay_female[\"have zero kid\"] == 1)]\n",
    "                            if self.someone_donot_want_kids == \"no\":\n",
    "                                df_gay_female = df_gay_female[(df_gay_female['do not want kids'] == 1)]\n",
    "                                return df_gay_female\n",
    "                            else:\n",
    "                                return df_gay_female\n",
    "                        else:\n",
    "                            return df_gay_female\n",
    "                    else:\n",
    "                        return df_gay_female\n",
    "                else:\n",
    "                    if self.religion_matters == \"yes\":\n",
    "                        df_gay_female = df_gay_female[(df_gay_female[\"religion_matters\"] == 1) | (df_gay_female[\"religion_somewhat_matters\"] == 1)]\n",
    "                        df_gay_female = df_gay_female[df_gay_female[self.religion] == 1]\n",
    "                        if self.someone_with_kids == \"no\":\n",
    "                            df_gay_female = df_gay_female[(df_gay_female[\"have zero kid\"] == 1)]\n",
    "                            if self.someone_donot_want_kids == \"no\":\n",
    "                                df_gay_female = df_gay_female[(df_gay_female['do not want kids'] == 1)]\n",
    "                                return df_gay_female\n",
    "                            else:\n",
    "                                return df_gay_female\n",
    "                        else:\n",
    "                            return df_gay_female\n",
    "                    else:\n",
    "                        return df_gay_female\n",
    "        \n",
    "        # if their orientation is bixsexual\n",
    "        if self.orientation == \"bisexual\":\n",
    "            # select their potiential matches who are bixsexual ignoring their sex, and select those who are gay, but are the same gender as the matcher\n",
    "            bisexual_ = file[(file['orientation'] == 'bisexual') | ((file['orientation'] == 'gay') & (file['sex'] == gender))]\n",
    "            # select their potiential matches who meets the age preference\n",
    "            bisexual_ = bisexual_[(bisexual_['age'] >= self.min_age) & (bisexual_['age'] <= self.max_age)]\n",
    "            # from this point froward the process is the same\n",
    "            for ethnic in self.ethnic_pref:\n",
    "                df_bisexual_ = pd.concat([df_bisexual_, bisexual_[bisexual_ [ethnic] == 1]])\n",
    "            if self.mult_ethnic == \"yes\":\n",
    "                df_bisexual_ = df_bisexual_[df_bisexual_[\"multi_ethnic\"] == 0]\n",
    "                if self.religion_matters == \"yes\":\n",
    "                    df_bisexual_ = df_bisexual_[(df_bisexual_[\"religion_matters\"] == 1) | (df_bisexual_[\"religion_somewhat_matters\"] == 1)]\n",
    "                    df_bisexual_ = df_bisexual_[df_bisexual_[self.religion] == 1]\n",
    "                    if self.someone_with_kids == \"no\":\n",
    "                        df_bisexual_ = df_bisexual_[(df_bisexual_[\"have zero kid\"] == 1)]\n",
    "                        if self.someone_donot_want_kids == \"no\":\n",
    "                            df_bisexual_ = df_bisexual_[(df_bisexual_['do not want kids'] == 1)]\n",
    "                            return df_bisexual_\n",
    "                        else:\n",
    "                            return df_bisexual_\n",
    "                    else:\n",
    "                        return df_bisexual_\n",
    "                else:\n",
    "                    return df_bisexual_\n",
    "            else:\n",
    "                if self.religion_matters == \"yes\":\n",
    "                    df_bisexual_ = df_bisexual_[(df_bisexual_[\"religion_matters\"] == 1) | (df_bisexual_[\"religion_somewhat_matters\"] == 1)]\n",
    "                    df_bisexual_ = df_bisexual_[df_bisexual_[self.religion] == 1]\n",
    "                    if self.someone_with_kids == \"no\":\n",
    "                        df_bisexual_ = df_bisexual_[(df_bisexual_[\"have zero kid\"] == 1)]\n",
    "                        if self.someone_donot_want_kids == \"no\":\n",
    "                            df_bisexual_ = df_bisexual_[(df_bisexual_['do not want kids'] == 1)]\n",
    "                            return df_bisexual_\n",
    "                        else:\n",
    "                            return df_bisexual_\n",
    "                    else:\n",
    "                        return df_bisexual_\n",
    "                else:\n",
    "                    return df_bisexual_"
   ]
  },
  {
   "cell_type": "markdown",
   "metadata": {},
   "source": [
    "# Section 4: Personalized, Pooled, and Recongfig_text Function"
   ]
  },
  {
   "cell_type": "markdown",
   "metadata": {},
   "source": [
    "# Section 4.1 Personalized Function"
   ]
  },
  {
   "cell_type": "code",
   "execution_count": null,
   "metadata": {},
   "outputs": [],
   "source": [
    "# Generate a new dataset based on the subset of the data generate from the reduce function\n",
    "# This new dataset will consist of comparing the matchers data against all of their potiential matches data\n",
    "\n",
    "def personalized(file):\n",
    "    \n",
    "    file.reset_index(inplace = True)\n",
    "    \n",
    "    global reduce, age, body, height, income, education, job, ethnic_pref, religion_matters\n",
    "    \n",
    "    reduce_copy = reduce.copy()\n",
    "    df = reduce.iloc[:,48:]\n",
    "    \n",
    "    # matche'rs age is equal to their potiental matches' age\n",
    "    df['same_age'] = np.where(file['age'] == age, 1, 0)\n",
    "    # matcher's age is less than their potiental matches' age\n",
    "    df['younger'] = np.where(file['age'] < age, 1, 0)\n",
    "    \n",
    "    # Cleaning the variable body_type by replacing them with integer values\n",
    "    # Having them in integer value allows for comparison\n",
    "    file['body_type'] = file['body_type'].replace('overweight', 1)\n",
    "    file['body_type'] = file['body_type'].replace('full figured', 2)\n",
    "    file['body_type'] = file['body_type'].replace('a little extra', 3)\n",
    "    file['body_type'] = file['body_type'].replace('RNS Body', 4)\n",
    "    file['body_type'] = file['body_type'].replace('curvy', 5)\n",
    "    file['body_type'] = file['body_type'].replace('average', 6)\n",
    "    file['body_type'] = file['body_type'].replace('thin', 7)\n",
    "    file['body_type'] = file['body_type'].replace('skinny', 8)\n",
    "    file['body_type'] = file['body_type'].replace('athletic', 9)\n",
    "    file['body_type'] = file['body_type'].replace('fit', 10)\n",
    "    file['body_type'] = file['body_type'].replace('jacked', 11)\n",
    "    \n",
    "    file['body_type'] = file['body_type'].astype('int64')\n",
    "    \n",
    "    # Rank of body type\n",
    "    # Starting from 1 to 11, left to right\n",
    "    b = ['overweight', 'full figured', 'a little extra', 'RNS body', 'curvy', 'average', 'thin','skinny','athletic', 'fit', 'jacked']\n",
    "    \n",
    "    body_ = 1\n",
    "    \n",
    "    # for items in the list, add the index number to body_\n",
    "    # body_ is the value of the matchers body type\n",
    "    for i, item in enumerate(b):\n",
    "        if item == body:\n",
    "            body_ += i\n",
    "\n",
    "    # if matcher's body type is same as their potiential matches' body type\n",
    "    df['same body'] = np.where(file['body_type'] == body_, 1, 0)\n",
    "    # if matcher's body type is greater than their potiential matches' body type\n",
    "    df['better body'] = np.where(file['body_type'] > body_, 1, 0)\n",
    "    \n",
    "    # if matcher's height is equal to their potiental matches' height\n",
    "    df['same height'] = np.where(file['height'] == height, 1, 0)\n",
    "    # if matcher's height is greater than their potiental matches' height\n",
    "    df['taller'] = np.where(file['height'] > height, 1, 0)\n",
    "    \n",
    "    # if matcher's income level is the same to their potiental matches' income level\n",
    "    df['same income'] = np.where(file['income'] == income, 1, 0)\n",
    "    # if matcher's income level is greater than their potiental matches' income level\n",
    "    df['more income'] = np.where(file['income'] > income, 1, 0)\n",
    "    \n",
    "    # creating 5 new dummy variables based on their diet\n",
    "    # I do not compare diets. Why?\n",
    "    # Regardless of diet, it should not effect much their rejections too much\n",
    "    # A vegan may prefer a vegan, but it doesn't mean a vegan needs to be with a vegan\n",
    "    # Furthermore, this would eventually be capture in the ANN algorithm\n",
    "    df['diet anything'] = np.where(file['diet'] == 'diet_anything', 1, 0)\n",
    "    df['kosher'] = np.where(file['diet'] == 'kosher', 1, 0)\n",
    "    df['diet other'] = np.where(file['diet'] == 'other_diet', 1, 0)\n",
    "    df['vegetarian'] = np.where(file['diet'] == 'vegetarian', 1, 0)\n",
    "    df['vegan'] = np.where(file['diet'] == 'vegan', 1, 0)\n",
    "    \n",
    "    # creating 3 new dummy variables based on their drinking habits\n",
    "    # Similarly, this would eventually be capture in the ANN algorithm\n",
    "    df['socially drink'] = np.where(file['drinks'] == 'socially drink', 1, 0)\n",
    "    df['often drink'] = np.where(file['drinks'] == 'often drink', 1, 0)\n",
    "    df['do not drink'] = np.where(file['drinks'] == 'do not drink', 1, 0)\n",
    "    \n",
    "    # creating 2 new dummy variables based on their drug habits\n",
    "    # Similarly, this would eventually be capture in the ANN algorithm\n",
    "    df['never done drugs'] = np.where(file['drugs'] == 'never drugs', 1, 0)\n",
    "    df['often drugs'] = np.where(file['drinks'] == 'often drugs', 1, 0)\n",
    "    \n",
    "    # creating 3 new dummy variables based on their smoking habits\n",
    "    # Similarly, this would eventually be capture in the ANN algorithm\n",
    "    df['dont smoke'] = np.where(file['smokes'] == 'dont smoke', 1, 0)\n",
    "    df['sometime smokes'] = np.where(file['smokes'] == 'sometime smokes', 1, 0)\n",
    "    df['smokes'] = np.where(file['smokes'] == 'smokes', 1, 0)\n",
    "    \n",
    "    # Replacing education variables with an integer value based on their schooling\n",
    "    # this allow for the comparison between education levels\n",
    "    file['education'] = file['education'].replace('high school', 1)\n",
    "    file['education'] = file['education'].replace('some college', 2)\n",
    "    file['education'] = file['education'].replace('bachelors', 3)\n",
    "    file['education'] = file['education'].replace('masters', 4)\n",
    "    file['education'] = file['education'].replace('law degree', 5)\n",
    "    file['education'] = file['education'].replace('med degree', 6)\n",
    "    file['education'] = file['education'].replace('doctorates', 7)\n",
    "    \n",
    "    # list of education level ranking from the lowest to highest\n",
    "    e = ['high school', 'some college', 'bachelors', 'masters', 'law degree', 'med degree', 'doctorates']\n",
    "    \n",
    "    education_ = 1\n",
    "    \n",
    "    # for items in the list, add the index number to education_\n",
    "    # education_ is the value of the matcher's education level\n",
    "    for i, item in enumerate(e):\n",
    "        if item == education:\n",
    "            education_ += i\n",
    "    \n",
    "    # if matcher's education is equal to thier potiential matches' education level\n",
    "    df['same education'] = np.where(file['education'] == education_, 1, 0)\n",
    "    df['more education'] = np.where(file['education'] > education_, 1, 0)\n",
    "    \n",
    "    # replacing their specific job type with a general job category\n",
    "    # student, retired, military, other_job, blue collar, white collor, artistic/ musical/ writer\n",
    "    file['job'] = file['job'].replace('sales / marketing / biz dev','white collar',)\n",
    "    file['job'] = file['job'].replace('medicine / health','white collar',)\n",
    "    file['job'] = file['job'].replace('executive / management','white collar',)\n",
    "    file['job'] = file['job'].replace('science / tech / engineering','white collar',)\n",
    "    file['job'] = file['job'].replace('computer / hardware / software','white collar',)\n",
    "    file['job'] = file['job'].replace('entertainment / media','white collar',)\n",
    "    file['job'] = file['job'].replace('education / academia','white collar',)\n",
    "    file['job'] = file['job'].replace('law / legal services','white collar',)\n",
    "    file['job'] = file['job'].replace('hospitality / travel','white collar',)\n",
    "    file['job'] = file['job'].replace('clerical / administrative','white collar',)\n",
    "    file['job'] = file['job'].replace('political / government','white collar',)\n",
    "    file['job'] = file['job'].replace('banking / financial / real estate','white collar',)\n",
    "    file['job'] = file['job'].replace('transportation','blue collar')\n",
    "    file['job'] = file['job'].replace('construction / craftsmanship','blue collar')\n",
    "    \n",
    "    # create 7 dummy variables based on their job category\n",
    "    df['student'] = np.where(file['job'] == 'student', 1, 0)\n",
    "    df['retired'] = np.where(file['job'] == 'retired', 1, 0)\n",
    "    df['military'] = np.where(file['job'] == 'military', 1, 0)\n",
    "    df['other job'] = np.where(file['job'] == 'other_job', 1, 0)\n",
    "    df['blue collar'] = np.where(file['job'] == 'blue collar', 1, 0)\n",
    "    df['white collar'] = np.where(file['job'] == 'white collar', 1, 0)\n",
    "    df['creative job'] = np.where(file['job'] == 'artistic / musical / writer', 1, 0)\n",
    "    \n",
    "    \n",
    "    # creating dummy variables for ethnic preferences\n",
    "    if len(ethnic_pref) > 1:\n",
    "        for item in ethnic_pref[:-1]:\n",
    "            df[item] = file[item]\n",
    "    \n",
    "    # creating dummy variables for zodiac signs\n",
    "    sign = ['libra', 'gemini', 'leo', 'taurus', 'capricorn', 'aries', 'virgo', 'scorpio', 'cancer', 'sagittarius', 'aquarius']\n",
    "    for item in sign:\n",
    "        df[item] = np.where(file['sign'] == item, 1, 0)\n",
    "\n",
    "    # creating dummy variables for religion\n",
    "    # only create dummy variable, if religion does not matter\n",
    "    r = ['agnosticism', 'atheism', 'buddhism', 'catholicism', 'christianity', 'hinduism', 'judaism', 'other religion']\n",
    "    if religion_matters == \"no\":\n",
    "        for item in r:\n",
    "            df[item] = file[item]\n",
    "            \n",
    "    df.drop(['description'], axis = 1, inplace = True)\n",
    "    \n",
    "    return df"
   ]
  },
  {
   "cell_type": "markdown",
   "metadata": {},
   "source": [
    "# Section 4.2: Pooled Function"
   ]
  },
  {
   "cell_type": "code",
   "execution_count": null,
   "metadata": {},
   "outputs": [],
   "source": [
    "# Generate a new dataset that compares the potiental matches' data against the matchers data\n",
    "\n",
    "def pooled(file):\n",
    "    \n",
    "    file.reset_index(inplace = True)\n",
    "    \n",
    "    global reduce, age, body, height, income, education, job, ethnic_pref, religion_matters\n",
    "    \n",
    "    reduce_copy = reduce.copy()\n",
    "    df = reduce.iloc[:,49:]\n",
    "    \n",
    "    # potential matches' age is equal to the matcher's age\n",
    "    df['same_age'] = np.where(age == file['age'], 1, 0)\n",
    "    # potential matches' age is less than the matcher's age\n",
    "    df['younger'] = np.where(age < file['age'], 1, 0)\n",
    "    \n",
    "    # Cleaning the variable body_type by replacing them with integer values\n",
    "    # Having them in integer value allows for comparison\n",
    "    file['body_type'] = file['body_type'].replace('overweight', 1)\n",
    "    file['body_type'] = file['body_type'].replace('full figured', 2)\n",
    "    file['body_type'] = file['body_type'].replace('a little extra', 3)\n",
    "    file['body_type'] = file['body_type'].replace('RNS Body', 4)\n",
    "    file['body_type'] = file['body_type'].replace('curvy', 5)\n",
    "    file['body_type'] = file['body_type'].replace('average', 6)\n",
    "    file['body_type'] = file['body_type'].replace('thin', 7)\n",
    "    file['body_type'] = file['body_type'].replace('skinny', 8)\n",
    "    file['body_type'] = file['body_type'].replace('athletic', 9)\n",
    "    file['body_type'] = file['body_type'].replace('fit', 10)\n",
    "    file['body_type'] = file['body_type'].replace('jacked', 11)\n",
    "    \n",
    "    file['body_type'] = file['body_type'].astype('int64')\n",
    "    \n",
    "    # Rank of body type\n",
    "    # Starting from 1 to 11, left to right\n",
    "    b = ['overweight', 'full figured', 'a little extra', 'RNS body', 'curvy', 'average', 'thin','skinny','athletic', 'fit', 'jacked']\n",
    "    body_ = 1\n",
    "    \n",
    "    # for items in the list, add the index number to body_\n",
    "    # body_ is the value of the matchers body type\n",
    "    for i, item in enumerate(b):\n",
    "        if item == body:\n",
    "            body_ += i\n",
    "\n",
    "    # if potential matches' body type is same as the matcher's body type\n",
    "    df['same body'] = np.where(body_ == file['body_type'], 1, 0)\n",
    "    # if potential matches' body type is greater than the matcher's body type\n",
    "    df['better body'] = np.where(body_ > file['body_type'], 1, 0)\n",
    "    \n",
    "    # if potential matches' height is same as the matcher's height\n",
    "    df['same height'] = np.where(height == file['height'], 1, 0)\n",
    "    # if potential matches' height is greater than the matcher's height\n",
    "    df['taller'] = np.where(height > file['height'], 1, 0)\n",
    "    \n",
    "    # if potential matches' income is same as the matcher's income\n",
    "    df['same income'] = np.where(income == file['income'], 1, 0)\n",
    "    # if potential matches' income is greater than the matcher's income\n",
    "    df['more income'] = np.where(income > file['income'], 1, 0)\n",
    "    \n",
    "    # creating 5 new dummy variables based on their diet\n",
    "    df['diet anything'] = np.where(file['diet'] == 'diet_anything', 1, 0)\n",
    "    df['kosher'] = np.where(file['diet'] == 'kosher', 1, 0)\n",
    "    df['diet other'] = np.where(file['diet'] == 'other_diet', 1, 0)\n",
    "    df['vegetarian'] = np.where(file['diet'] == 'vegetarian', 1, 0)\n",
    "    df['vegan'] = np.where(file['diet'] == 'vegan', 1, 0)\n",
    "    \n",
    "    # creating 3 new dummy variables based on their drinking habits\n",
    "    df['socially drink'] = np.where(file['drinks'] == 'socially drink', 1, 0)\n",
    "    df['often drink'] = np.where(file['drinks'] == 'often drink', 1, 0)\n",
    "    df['do not drink'] = np.where(file['drinks'] == 'do not drink', 1, 0)\n",
    "    \n",
    "    # creating 2 new dummy variables based on their drug habits\n",
    "    df['never done drugs'] = np.where(file['drugs'] == 'never drugs', 1, 0)\n",
    "    df['often drugs'] = np.where(file['drinks'] == 'often drugs', 1, 0)\n",
    "    \n",
    "    # creating 3 new dummy variables based on their smoking habits\n",
    "    df['dont smoke'] = np.where(file['smokes'] == 'dont smoke', 1, 0)\n",
    "    df['sometime smokes'] = np.where(file['smokes'] == 'sometime smokes', 1, 0)\n",
    "    df['smokes'] = np.where(file['smokes'] == 'smokes', 1, 0)\n",
    "    \n",
    "    # Replacing education variables with an integer value based on their schooling\n",
    "    # this allow for the comparison between education levels\n",
    "    file['education'] = file['education'].replace('high school', 1)\n",
    "    file['education'] = file['education'].replace('some college', 2)\n",
    "    file['education'] = file['education'].replace('bachelors', 3)\n",
    "    file['education'] = file['education'].replace('masters', 4)\n",
    "    file['education'] = file['education'].replace('law degree', 5)\n",
    "    file['education'] = file['education'].replace('med degree', 6)\n",
    "    file['education'] = file['education'].replace('doctorates', 7)\n",
    "    \n",
    "    # list of education level ranking from the lowest to highest\n",
    "    e = ['high school', 'some college', 'bachelors', 'masters', 'law degree', 'med degree', 'doctorates']\n",
    "    \n",
    "    education_ = 1\n",
    "    \n",
    "    # for items in the list, add the index number to education_\n",
    "    # education_ is the value of the matcher's education level\n",
    "    for i, item in enumerate(e):\n",
    "        if item == education:\n",
    "            education_ += i\n",
    "            \n",
    "    # if potential matches' education level is same as the matcher's education level\n",
    "    df['same education'] = np.where(education_ == file['education'], 1, 0)\n",
    "    # if potential matches' education level is greater than the matcher's education level\n",
    "    df['more education'] = np.where(education_ > file['education'], 1, 0)\n",
    "    \n",
    "    # replacing their specific job type with a general job category\n",
    "    # student, retired, military, other_job, blue collar, white collor, artistic/ musical/ writer\n",
    "    file['job'] = file['job'].replace('sales / marketing / biz dev','white collar',)\n",
    "    file['job'] = file['job'].replace('medicine / health','white collar',)\n",
    "    file['job'] = file['job'].replace('executive / management','white collar',)\n",
    "    file['job'] = file['job'].replace('science / tech / engineering','white collar',)\n",
    "    file['job'] = file['job'].replace('computer / hardware / software','white collar',)\n",
    "    file['job'] = file['job'].replace('entertainment / media','white collar',)\n",
    "    file['job'] = file['job'].replace('education / academia','white collar',)\n",
    "    file['job'] = file['job'].replace('law / legal services','white collar',)\n",
    "    file['job'] = file['job'].replace('hospitality / travel','white collar',)\n",
    "    file['job'] = file['job'].replace('clerical / administrative','white collar',)\n",
    "    file['job'] = file['job'].replace('political / government','white collar',)\n",
    "    file['job'] = file['job'].replace('banking / financial / real estate','white collar',)\n",
    "    file['job'] = file['job'].replace('transportation','blue collar')\n",
    "    file['job'] = file['job'].replace('construction / craftsmanship','blue collar')\n",
    "    \n",
    "    # create 7 dummy variables based on their job category\n",
    "    df['student'] = np.where(file['job'] == 'student', 1, 0)\n",
    "    df['retired'] = np.where(file['job'] == 'retired', 1, 0)\n",
    "    df['military'] = np.where(file['job'] == 'military', 1, 0)\n",
    "    df['other job'] = np.where(file['job'] == 'other_job', 1, 0)\n",
    "    df['blue collar'] = np.where(file['job'] == 'blue collar', 1, 0)\n",
    "    df['white collar'] = np.where(file['job'] == 'white collar', 1, 0)\n",
    "    df['creative job'] = np.where(file['job'] == 'artistic / musical / writer', 1, 0)\n",
    "    \n",
    "    \n",
    "    # creating dummy variables for ethnic preferences\n",
    "    if len(ethnic_pref) > 1:\n",
    "        for item in ethnic_pref[:-1]:\n",
    "            df[item] = file[item]\n",
    "    \n",
    "    # creating dummy variables for zodiac signs\n",
    "    sign = ['libra', 'gemini', 'leo', 'taurus', 'capricorn', 'aries', 'virgo', 'scorpio', 'cancer', 'sagittarius', 'aquarius']\n",
    "    for item in sign:\n",
    "        df[item] = np.where(file['sign'] == item, 1, 0)\n",
    "\n",
    "    # religion\n",
    "    r = ['agnosticism', 'atheism', 'buddhism', 'catholicism', 'christianity', 'hinduism', 'judaism', 'other religion']\n",
    "    if religion_matters == \"no\":\n",
    "        for item in r:\n",
    "            df[item] = file[item]\n",
    "    \n",
    "    df.drop(['description'], axis = 1, inplace = True)\n",
    "    \n",
    "    return df"
   ]
  },
  {
   "cell_type": "markdown",
   "metadata": {},
   "source": [
    "# Section 5: Weights, Sigmoid, and Initial ANN"
   ]
  },
  {
   "cell_type": "markdown",
   "metadata": {},
   "source": [
    "# Section 5.1: Weights & Sigmoid Function"
   ]
  },
  {
   "cell_type": "code",
   "execution_count": null,
   "metadata": {},
   "outputs": [],
   "source": [
    "# randomly generate an array weights and divided by the size len of the variables\n",
    "weights = np.random.randn(93, 1)/93"
   ]
  },
  {
   "cell_type": "code",
   "execution_count": null,
   "metadata": {},
   "outputs": [],
   "source": [
    "# sigmoid function\n",
    "# the activation function for ANN\n",
    "# I will also use its derivative to adjust the weights\n",
    "def sigmoid(x, derivative=False):\n",
    "    sigm = 1. / (1. + np.exp(-x))\n",
    "    if derivative:\n",
    "        return sigm * (1. - sigm)\n",
    "    return sigm"
   ]
  },
  {
   "cell_type": "markdown",
   "metadata": {},
   "source": [
    "# Section 5.2: Initializing ANN"
   ]
  },
  {
   "cell_type": "code",
   "execution_count": null,
   "metadata": {},
   "outputs": [],
   "source": [
    "# simple artifical neural network function\n",
    "\n",
    "class ANN:\n",
    "    \n",
    "    def __init__(self, x_variables, weights):\n",
    "        \n",
    "        self.inputs = x_variables\n",
    "        self.weights = weights\n",
    "        self.output = np.zeros([self.inputs.shape[0], 1])\n",
    "    \n",
    "    # calculate the dot product between inputs and weights\n",
    "    # then put the output of the dot product into the sigmoid function\n",
    "    # to determine the probability of the match\n",
    "    def feedforward(self):\n",
    "        self.output = sigmoid(np.dot(self.inputs, self.weights))"
   ]
  },
  {
   "cell_type": "code",
   "execution_count": null,
   "metadata": {},
   "outputs": [],
   "source": [
    "# simple artifical neural network function, but with outputs\n",
    "class ANN2:\n",
    "    \n",
    "    def __init__(self, x_variables, weights, y):\n",
    "        \n",
    "        self.inputs = x_variables\n",
    "        self.weights = weights\n",
    "        self.output = np.zeros([self.inputs.shape[0], 1])\n",
    "        self.y = y\n",
    "    \n",
    "    # calculate the dot product between inputs and weights\n",
    "    # then put the output of the dot product into the sigmoid function\n",
    "    # to determine the probability of the match\n",
    "    def feedforward(self):\n",
    "        self.output = sigmoid(np.dot(self.inputs, self.weights))\n",
    "    \n",
    "    # adjusting the ANN weights\n",
    "    def backprop(self):\n",
    "        \n",
    "        d_weights = np.dot(self.output.T, (2*(self.y - self.output) * sigmoid(self.output, True)))\n",
    "        self.weights += d_weights"
   ]
  },
  {
   "cell_type": "markdown",
   "metadata": {},
   "source": [
    "# Section 6: match_output, scores_df, initial_match_info, initial_match_df, and loop_match"
   ]
  },
  {
   "cell_type": "code",
   "execution_count": null,
   "metadata": {},
   "outputs": [],
   "source": [
    "# Return the person's match and the score of the match\n",
    "def match_output(index_file, predicted_personal, predicted_matcher):\n",
    "    \n",
    "    # create new dataframe, setting the id to the index id\n",
    "    output_file = pd.DataFrame({'ID': index_file.index.values})\n",
    "    # extracts the ANN scores based on the personalized data\n",
    "    output_file['Personal Score'] = predicted_personal.output\n",
    "    # extracts the ANN scores based on the pooled data\n",
    "    output_file[\"Other Persons' Score\"] = predicted_matcher.output\n",
    "    # multiple both the scores together\n",
    "    output_file['Multi Score'] = output_file['Personal Score'] * output_file[\"Other Persons' Score\"]\n",
    "    # sort based on the highest multi score, and select the top 10\n",
    "    outputs = output_file.sort_values(['Multi Score'], ascending = False)[:10]\n",
    "    # randomly choose from the top 10 results\n",
    "    match = np.random.choice(list(outputs.index))\n",
    "    \n",
    "    # return the observational scores data of the person's match\n",
    "    return output_file[match:match+1]"
   ]
  },
  {
   "cell_type": "code",
   "execution_count": null,
   "metadata": {},
   "outputs": [],
   "source": [
    "# Return a dataframe with all the output scores\n",
    "def scores_df(index_file, predicted_personal, predicted_matcher):\n",
    "    \n",
    "    # create new dataframe, setting the id to the index id\n",
    "    output_file = pd.DataFrame({'ID': index_file.index.values})\n",
    "    # extracts the ANN scores based on the personalized data\n",
    "    output_file['Personal Score'] = predicted_personal.output\n",
    "    # extracts the ANN scores based on the pooled data\n",
    "    output_file[\"Other Persons' Score\"] = predicted_matcher.output\n",
    "    # multiple both the scores together\n",
    "    output_file['Multi Score'] = output_file['Personal Score'] * output_file[\"Other Persons' Score\"]\n",
    "    \n",
    "    return output_file"
   ]
  },
  {
   "cell_type": "code",
   "execution_count": null,
   "metadata": {},
   "outputs": [],
   "source": [
    "# Return the index of the person's match \n",
    "def initial_match_info(individual_file, matcher_file, weights):\n",
    "    \n",
    "    global ANN, match_output\n",
    "    # Run ANN with the personal data\n",
    "    predict_initial_personal = ANN(individual_file, weights)\n",
    "    # dot product the weights and inputs of the personal data\n",
    "    predict_initial_personal.feedforward()\n",
    "    # Run ANN with the pool data\n",
    "    predict_initial_matcher = ANN(matcher_file, weights)\n",
    "    # dot product the weights and inputs of the pool data\n",
    "    predict_initial_personal.feedforward()\n",
    "    \n",
    "    # use the function match_output which will provide person's match\n",
    "    match_found = match_output(individual_file ,predict_initial_personal, predict_initial_personal)\n",
    "    \n",
    "    # return the index of their match\n",
    "    return individual_file[match_found.index.start:match_found.index.stop]"
   ]
  },
  {
   "cell_type": "code",
   "execution_count": null,
   "metadata": {},
   "outputs": [],
   "source": [
    "# Return a dataframe with the every potential match score\n",
    "def initial_match_df(individual_file, matcher_file, weights):\n",
    "    \n",
    "    global ANN, match_output\n",
    "    # Run ANN with the personal data\n",
    "    predict_initial_personal = ANN(individual_file, weights)\n",
    "    # dot product the weights and inputs of the personal data\n",
    "    predict_initial_personal.feedforward()\n",
    "    # Run ANN with the pool data\n",
    "    predict_initial_matcher = ANN(matcher_file, weights)\n",
    "    # dot product the weights and inputs of the pool data\n",
    "    predict_initial_personal.feedforward()\n",
    "    \n",
    "    # use the function scores_df which will provide a dataframe of everyone score\n",
    "    scores = scores_df(individual_file ,predict_initial_personal, predict_initial_personal)\n",
    "    \n",
    "    return scores"
   ]
  },
  {
   "cell_type": "code",
   "execution_count": null,
   "metadata": {},
   "outputs": [],
   "source": [
    "# This function will be use to loop the process of selecting more than one match\n",
    "def loop_match(actual_output):\n",
    "    \n",
    "    global ANN2, weights, personal, match_info, match_score\n",
    "    \n",
    "    # create copy of the file personal and match_score\n",
    "    personal_copy = personal.copy()\n",
    "    personal_copy = personal_copy.drop(match_info.index)\n",
    "    match_score_copy = match_score.copy()\n",
    "    match_score_copy = match_score.drop(match_info.index)\n",
    "    \n",
    "    # Run ANN2 which just have an output, and the function backprop\n",
    "    # Additionally match_info, only contain the person's current match so it's just one observation\n",
    "    predicted_personal = ANN2(match_info, weights, actual_output)\n",
    "    # dot product inputs and weights \n",
    "    predicted_personal.feedforward()\n",
    "    # Run backprop which will adjust the weights depending on the person's output value\n",
    "    predicted_personal.backprop()\n",
    "    \n",
    "    # Runn ANN with the personal_copy with the updated weights\n",
    "    predicted_personal2 = ANN(personal_copy, weights)\n",
    "    # dot product the new weights and inputs\n",
    "    predicted_personal2.feedforward()\n",
    "    \n",
    "    # Update the copy of match_score with the new predicted values from ANN\n",
    "    match_score_copy['Personal Score'] = predicted_personal2.output\n",
    "    # Update the copy of match_score with the new predicted multi score\n",
    "    match_score_copy['Multi Score'] = match_score_copy['Personal Score'] * match_score_copy[\"Other Persons' Score\"]\n",
    "    # Select top 5 matches from the match_score_copy\n",
    "    outputs = match_score_copy.sort_values(['Multi Score'], ascending = False)[:5]\n",
    "    # randomly select one of the top five from match_score_copy\n",
    "    match = np.random.choice(list(outputs.index))\n",
    "    # update match_info with the new match\n",
    "    match_info = personal_copy[match:match+1]\n",
    "    # update match_score with updated match_score_copy\n",
    "    match_score = match_score_copy\n",
    "    # replace personal with personal_copy\n",
    "    personal = personal_copy\n",
    "    \n",
    "    return match_info"
   ]
  },
  {
   "cell_type": "markdown",
   "metadata": {},
   "source": [
    "# Section 7: Running The Matching Code"
   ]
  },
  {
   "cell_type": "code",
   "execution_count": null,
   "metadata": {},
   "outputs": [],
   "source": [
    "# Use the Funnel Class\n",
    "x = funnel(orientation, gender, min_age, max_age, ethnic_pref, mult_ethnic_matters, religion_matters, religion_type, date_has_kids, not_want_kids)\n",
    "# Use the Reduce Class\n",
    "reduce = x.reduce()"
   ]
  },
  {
   "cell_type": "code",
   "execution_count": null,
   "metadata": {},
   "outputs": [],
   "source": [
    "# create a copy of the reduce which will be use to print out the inputs \n",
    "reduce_copy = reduce.copy()\n",
    "# drop certain variables that will not be needed when importing the matches into the a new dataframe\n",
    "reduce_copy.drop(['asian', 'white', 'black','other ethnicity', 'pacific islander', 'hispanic / latin',\n",
    "       'middle eastern', 'indian', 'native american', 'multi_ethnic', 'sentiment', 'do not want kids',\n",
    "       'might want kids', 'want kid ', 'have more than one kid',\n",
    "       'have one kid', 'have zero kid', 'agnosticism', 'atheism', 'buddhism',\n",
    "       'catholicism', 'christianity', 'hinduism', 'islam', 'judaism',\n",
    "       'other religion', 'female', 'male', 'text'], axis = 1, inplace = True)"
   ]
  },
  {
   "cell_type": "code",
   "execution_count": null,
   "metadata": {},
   "outputs": [],
   "source": [
    "# Replacing text outputs with yes/no depending on the value\n",
    "\n",
    "words = ['active', 'adventurous', 'artistic', 'beach', 'bike',\n",
    "       'chill', 'conversation', 'cook', 'dance', 'easygoing', 'family', 'food',\n",
    "       'friendly', 'fun', 'funny', 'game', 'genuine_traits', 'good_time',\n",
    "       'happy', 'independent', 'interesting', 'kind', 'laid', 'learning',\n",
    "       'movies', 'music', 'outgoing', 'playing', 'positive', 'professional',\n",
    "       'read', 'relationship', 'sarcastic', 'share', 'shy', 'simple', 'smart',\n",
    "       'travel', 'walk', 'write']\n",
    "\n",
    "for word in words:\n",
    "    if word in reduce_copy:\n",
    "        reduce_copy[word] = np.where(reduce_copy[word] > 0, \"Yes\", \"No\")"
   ]
  },
  {
   "cell_type": "code",
   "execution_count": null,
   "metadata": {},
   "outputs": [],
   "source": [
    "# removing nan and floats from description text\n",
    "reduce_copy['description'] = reduce_copy['description'].apply(lambda x: clean_nan_float(x))"
   ]
  },
  {
   "cell_type": "code",
   "execution_count": null,
   "metadata": {},
   "outputs": [],
   "source": [
    "# replacing religion matters\n",
    "reduce_copy['religion_matters'] = np.where(reduce_copy['religion_matters'] == 1, 'Yes', 'No')\n",
    "reduce_copy['religion_somewhat_matters'] = np.where(reduce_copy['religion_somewhat_matters'] == 1, 'Yes', 'No')"
   ]
  },
  {
   "cell_type": "code",
   "execution_count": null,
   "metadata": {},
   "outputs": [],
   "source": [
    "# creating the personal data by using the personalized function on the reduce data set\n",
    "personal = personalized(reduce)\n",
    "# creating the pool data by using the pooled function on the reduce data set\n",
    "pool = pooled(reduce)"
   ]
  },
  {
   "cell_type": "code",
   "execution_count": null,
   "metadata": {},
   "outputs": [],
   "source": [
    "# return the index of the person's match\n",
    "match_info = initial_match_info(personal, pool, weights)\n",
    "# return a dataframe with all of the person's match scores\n",
    "match_score = initial_match_df(personal, pool, weights)"
   ]
  },
  {
   "cell_type": "code",
   "execution_count": null,
   "metadata": {},
   "outputs": [],
   "source": [
    "# the person's match, and their matches' information \n",
    "dynamic_match = reduce_copy[match_info.index.start:match_info.index.stop]\n",
    "# create a dataframe that will store the person's potiential match information and their output\n",
    "# it also stores the person's initial match\n",
    "individual_df = pd.DataFrame(dynamic_match)\n",
    "# A list that contains the person's match outputs (i.e. yes or no to their match)\n",
    "answer_file = []"
   ]
  },
  {
   "cell_type": "code",
   "execution_count": null,
   "metadata": {},
   "outputs": [
    {
     "name": "stdout",
     "output_type": "stream",
     "text": [
      "------Match Information------\n",
      "age: 35\n",
      "sex: male\n",
      "orientation: straight\n",
      "ethnicity: white\n",
      "height: 71\n",
      "body_type: average\n",
      "education: bachelors\n",
      "income: 70000.0\n",
      "job: banking / financial / real estate\n",
      "religion: other but not too serious about it\n",
      "offspring: doesn't have kids, but wants them\n",
      "diet: anything\n",
      "pets: has dogs\n",
      "sign: leo\n",
      "drinks: socially drink\n",
      "smokes: dont smoke\n",
      "drugs: never drugs\n",
      "adventurous: Yes\n",
      "kind: Yes\n",
      "learning: Yes\n",
      "description: i am new to this. i am kind of a goofball. i am very curious about the universe we live in. i don't think we should ever stop learning new t\n",
      "-----------------------------\n",
      "Did You Match? Yes or No: yes\n"
     ]
    }
   ],
   "source": [
    "# print their first match information\n",
    "# this should only be ran once\n",
    "print(\"------Match Information------\")\n",
    "for items in dynamic_match:\n",
    "    # only print information on the variables that are not equal to 0\n",
    "    if dynamic_match[items].values[0] != \"No\":\n",
    "        print(\"{}: {}\".format(items, dynamic_match[items].values[0]))\n",
    "\n",
    "print(\"-----------------------------\")\n",
    "\n",
    "# person will answer if they match or not, and it will be recorded in the answer_file\n",
    "answer = input(\"Did You Match? Yes or No: \")\n",
    "if answer.lower() == 'yes':\n",
    "    new_answer = 1\n",
    "else:\n",
    "    new_answer = 0\n",
    "    \n",
    "answer_file.append(new_answer)"
   ]
  },
  {
   "cell_type": "code",
   "execution_count": null,
   "metadata": {},
   "outputs": [
    {
     "name": "stdout",
     "output_type": "stream",
     "text": [
      "Want To Match Again? Yes or No: yes\n",
      "------Match Information------\n",
      "age: 28\n",
      "sex: male\n",
      "orientation: straight\n",
      "ethnicity: hispanic / latin, white\n",
      "height: 72\n",
      "body_type: average\n",
      "education: bachelors\n",
      "income: 70000.0\n",
      "job: other_job\n",
      "religion: agnosticism but not too serious about it\n",
      "offspring: doesn't have kids\n",
      "diet: vegetarian\n",
      "pets: likes dogs and likes cats\n",
      "sign: pisces\n",
      "drinks: socially drink\n",
      "smokes: dont smoke\n",
      "drugs: sometimes drugs\n",
      "description: east bay native. so proud of and love the diversity, especially that of thought and expression, that living in the bay area offers and provi\n",
      "-----------------------------\n"
     ]
    }
   ],
   "source": [
    "# while loop, person can match as much as they want and they can stop when they type no\n",
    "# if you mistakenly stop matching, you can re-run this code\n",
    "while input(\"Want To Match Again? Yes or No: \").lower() == 'yes':\n",
    "    \n",
    "    # create new variable index_match which stores the index of their next match\n",
    "    index_match = loop_match(new_answer)\n",
    "    # find their new match information and update dynamic_match variable\n",
    "    dynamic_match = reduce_copy[index_match.index[0]:index_match.index[0]+1]\n",
    "    # add the new information to the individual_df dataframe\n",
    "    individual_df = pd.concat([individual_df, dynamic_match], sort = True)\n",
    "    print(\"------Match Information------\")\n",
    "    # only print information on the variables that are not equal to 0\n",
    "    for items in dynamic_match:\n",
    "        if dynamic_match[items].values[0] != \"No\":\n",
    "            print(\"{}: {}\".format(items, dynamic_match[items].values[0]))\n",
    "    print(\"-----------------------------\")\n",
    "    \n",
    "    # person will answer if they match or not, and it will be recorded in the answer_file\n",
    "    answer = input(\"Did You Match? Yes or No: \")\n",
    "    if answer.lower() == 'yes':\n",
    "        new_answer = 1\n",
    "    else:\n",
    "        new_answer = 0\n",
    "        \n",
    "    answer_file.append(new_answer)"
   ]
  },
  {
   "cell_type": "code",
   "execution_count": null,
   "metadata": {},
   "outputs": [],
   "source": [
    "# creating the variable output in the individual_df dataframe\n",
    "# the output data contains the persons' matching response\n",
    "individual_df[\"output\"] = answer_file\n",
    "individual_training_data = individual_df\n",
    "individual_training_data"
   ]
  }
 ],
 "metadata": {
  "kernelspec": {
   "display_name": "Python 3",
   "language": "python",
   "name": "python3"
  },
  "language_info": {
   "codemirror_mode": {
    "name": "ipython",
    "version": 3
   },
   "file_extension": ".py",
   "mimetype": "text/x-python",
   "name": "python",
   "nbconvert_exporter": "python",
   "pygments_lexer": "ipython3",
   "version": "3.7.7"
  }
 },
 "nbformat": 4,
 "nbformat_minor": 2
}
